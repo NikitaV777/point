{
 "cells": [
  {
   "cell_type": "code",
   "execution_count": 1,
   "metadata": {},
   "outputs": [
    {
     "ename": "NameError",
     "evalue": "name 'Car' is not defined",
     "output_type": "error",
     "traceback": [
      "\u001b[0;31m---------------------------------------------------------------------------\u001b[0m",
      "\u001b[0;31mNameError\u001b[0m                                 Traceback (most recent call last)",
      "\u001b[0;32m<ipython-input-1-baaf09c7ba1d>\u001b[0m in \u001b[0;36m<module>\u001b[0;34m\u001b[0m\n\u001b[1;32m     58\u001b[0m \u001b[0;34m\u001b[0m\u001b[0m\n\u001b[1;32m     59\u001b[0m \u001b[0;34m\u001b[0m\u001b[0m\n\u001b[0;32m---> 60\u001b[0;31m \u001b[0;32mclass\u001b[0m \u001b[0mGoogle\u001b[0m\u001b[0;34m(\u001b[0m\u001b[0mVehicles\u001b[0m\u001b[0;34m,\u001b[0m \u001b[0mCar\u001b[0m\u001b[0;34m)\u001b[0m\u001b[0;34m:\u001b[0m\u001b[0;34m\u001b[0m\u001b[0;34m\u001b[0m\u001b[0m\n\u001b[0m\u001b[1;32m     61\u001b[0m     \u001b[0;32mdef\u001b[0m \u001b[0m__init__\u001b[0m\u001b[0;34m(\u001b[0m\u001b[0mself\u001b[0m\u001b[0;34m,\u001b[0m \u001b[0mwheels\u001b[0m\u001b[0;34m,\u001b[0m \u001b[0mspeed\u001b[0m\u001b[0;34m,\u001b[0m \u001b[0mpower\u001b[0m\u001b[0;34m)\u001b[0m\u001b[0;34m:\u001b[0m\u001b[0;34m\u001b[0m\u001b[0;34m\u001b[0m\u001b[0m\n\u001b[1;32m     62\u001b[0m         \u001b[0;32mdef\u001b[0m \u001b[0m__init__\u001b[0m\u001b[0;34m(\u001b[0m\u001b[0mself\u001b[0m\u001b[0;34m,\u001b[0m \u001b[0mbikes\u001b[0m\u001b[0;34m,\u001b[0m \u001b[0mcars\u001b[0m\u001b[0;34m,\u001b[0m \u001b[0mbuses\u001b[0m\u001b[0;34m,\u001b[0m \u001b[0mtrucks\u001b[0m\u001b[0;34m)\u001b[0m\u001b[0;34m:\u001b[0m\u001b[0;34m\u001b[0m\u001b[0;34m\u001b[0m\u001b[0m\n",
      "\u001b[0;31mNameError\u001b[0m: name 'Car' is not defined"
     ]
    }
   ],
   "source": [
    "class Vehicles():\n",
    "    def set(self, wheels, speed, power):\n",
    "        self.wheels = wheels\n",
    "        self.speed = speed\n",
    "        self.power = power\n",
    "    \n",
    "class Bikes(Vehicles):\n",
    "    max_people = 2\n",
    "    \n",
    "class Pedal_bikes(Bikes):\n",
    "    def set(self, wheels, speed, power):\n",
    "        Pedal_bikes_1.set(2, 25, 7)\n",
    "        print(Pedal_bikes.wheels,Pedal_bikes.speed,Pedal_bikes.power)\n",
    "        \n",
    "class motor_bikes(Bikes):\n",
    "    def set(self, wheels, speed, power):\n",
    "        Motor_bikes.set(2, 100, 4)\n",
    "        print(motor_bikes.wheels,motor_bikes.speed,motor_bikes.power)\n",
    "    \n",
    "class Cars(Vehicles):\n",
    "    max_people = 5\n",
    "\n",
    "class pick_ups(Cars):\n",
    "    def set(self, wheels, speed, power):\n",
    "        pick_ups.set(4, 150, 5)\n",
    "        print(pick_ups.wheels, pick_ups.speed, pick_ups.power)\n",
    "\n",
    "class sports_cars(Cars):\n",
    "     def set(self, wheels, speed, power):\n",
    "        sports_cars.set(4, 300, 300)\n",
    "        print( sports_cars.wheels, sports_cars.speed, sports_cars.power)\n",
    "    \n",
    "class estate_cars(Cars):\n",
    "     def set(self, wheels, speed, power):\n",
    "        Estate_cars.set(4, 280, 10)\n",
    "        print( estate_cars.wheels, estate_cars.speed, estate_cars.power)\n",
    "        \n",
    "class Buses():\n",
    "      def set(self, wheels, speed, power):\n",
    "            Buses_1.set(4, 150, 5)\n",
    "            print(Buses_1.wheels,Buses_1.speed,Buses_1.power)\n",
    "\n",
    "class Trucks(Vehicles):\n",
    "    max_people = 3\n",
    "\n",
    "class Medium_trucks(Trucks):\n",
    "    def set(self, wheels, speed, power):\n",
    "            Medium_trucks.set(2, 180, 8)\n",
    "            print(Medium_trucks.wheels, Medium_trucks.speed, Medium_trucksvv.power)\n",
    "            \n",
    "class Heavy_trucks(Trucks):\n",
    "     def set(self, wheels, speed, power):\n",
    "            Heavy_trucks.set(2, 180, 8)\n",
    "            print(Heavy_trucks.wheels, Heavy_trucks.speed, Medium_trucks.power)\n",
    "    \n",
    "    \n",
    "    \n",
    "   \n",
    "        \n",
    "class Google(Vehicles, Car):\n",
    "    def __init__(self, wheels, speed, power):\n",
    "        def __init__(self, bikes, cars, buses, trucks):\n",
    "            super(wheels, speed, power)\n",
    "            super(bikes, cars, buses, trucks)\n",
    "            \n",
    "class Holop(Vehicles, Car):\n",
    "     def __init__(self, wheels, speed, power):\n",
    "        def __init__(self, bikes, cars, buses, trucks):\n",
    "            super(wheels, speed, power)\n",
    "            super(bikes, cars, buses, trucks)\n",
    "\n",
    "            \n",
    "    "
   ]
  },
  {
   "cell_type": "code",
   "execution_count": null,
   "metadata": {},
   "outputs": [],
   "source": []
  }
 ],
 "metadata": {
  "kernelspec": {
   "display_name": "Python 3",
   "language": "python",
   "name": "python3"
  },
  "language_info": {
   "codemirror_mode": {
    "name": "ipython",
    "version": 3
   },
   "file_extension": ".py",
   "mimetype": "text/x-python",
   "name": "python",
   "nbconvert_exporter": "python",
   "pygments_lexer": "ipython3",
   "version": "3.7.3"
  }
 },
 "nbformat": 4,
 "nbformat_minor": 2
}
